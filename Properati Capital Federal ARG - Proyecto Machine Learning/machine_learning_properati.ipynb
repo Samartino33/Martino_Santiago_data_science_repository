{
 "cells": [
  {
   "cell_type": "code",
   "execution_count": 1,
   "id": "9f0ca41b",
   "metadata": {},
   "outputs": [],
   "source": [
    "## Importamos librerías de Aprendizaje automático\n",
    "from sklearn import preprocessing\n",
    "from sklearn import linear_model\n",
    "from sklearn.model_selection import train_test_split, cross_val_score\n",
    "from sklearn.metrics import r2_score, mean_squared_error\n",
    "from sklearn.utils import shuffle\n",
    "from sklearn.preprocessing import StandardScaler\n",
    "from sklearn import preprocessing\n",
    "from sklearn.preprocessing import LabelEncoder\n",
    "from sklearn.linear_model import LinearRegression, RidgeCV\n",
    "from sklearn.svm import SVR, LinearSVR\n",
    "from sklearn.metrics import mean_squared_error, make_scorer\n",
    "from sklearn.model_selection import GridSearchCV"
   ]
  },
  {
   "cell_type": "code",
   "execution_count": 2,
   "id": "a34773d0",
   "metadata": {},
   "outputs": [],
   "source": [
    "## Importamos demas librerías\n",
    "import pandas as pd\n",
    "import numpy as np\n",
    "import seaborn as sns\n",
    "import matplotlib.pyplot as plt\n"
   ]
  },
  {
   "cell_type": "markdown",
   "id": "f476ca4f",
   "metadata": {},
   "source": [
    "# Introducción\n",
    "En el presente notebook vamos a aprender nuestros modelos de prediccion de precios para las propiedades de Capital Federal."
   ]
  },
  {
   "cell_type": "code",
   "execution_count": 3,
   "id": "81d8e2c6",
   "metadata": {
    "scrolled": true
   },
   "outputs": [
    {
     "data": {
      "text/html": [
       "<div>\n",
       "<style scoped>\n",
       "    .dataframe tbody tr th:only-of-type {\n",
       "        vertical-align: middle;\n",
       "    }\n",
       "\n",
       "    .dataframe tbody tr th {\n",
       "        vertical-align: top;\n",
       "    }\n",
       "\n",
       "    .dataframe thead th {\n",
       "        text-align: right;\n",
       "    }\n",
       "</style>\n",
       "<table border=\"1\" class=\"dataframe\">\n",
       "  <thead>\n",
       "    <tr style=\"text-align: right;\">\n",
       "      <th></th>\n",
       "      <th>Unnamed: 0</th>\n",
       "      <th>id</th>\n",
       "      <th>ad_type</th>\n",
       "      <th>start_date</th>\n",
       "      <th>end_date</th>\n",
       "      <th>created_on</th>\n",
       "      <th>lat</th>\n",
       "      <th>lon</th>\n",
       "      <th>l1</th>\n",
       "      <th>l2</th>\n",
       "      <th>...</th>\n",
       "      <th>bathrooms</th>\n",
       "      <th>surface_total</th>\n",
       "      <th>surface_covered</th>\n",
       "      <th>price</th>\n",
       "      <th>currency</th>\n",
       "      <th>price_period</th>\n",
       "      <th>title</th>\n",
       "      <th>description</th>\n",
       "      <th>property_type</th>\n",
       "      <th>operation_type</th>\n",
       "    </tr>\n",
       "  </thead>\n",
       "  <tbody>\n",
       "    <tr>\n",
       "      <th>0</th>\n",
       "      <td>63934</td>\n",
       "      <td>MlnOILxnUwm3KXFnNyOJig==</td>\n",
       "      <td>Propiedad</td>\n",
       "      <td>2020-07-06</td>\n",
       "      <td>2021-04-07</td>\n",
       "      <td>2020-07-06</td>\n",
       "      <td>-34.618041</td>\n",
       "      <td>-58.475124</td>\n",
       "      <td>Argentina</td>\n",
       "      <td>Capital Federal</td>\n",
       "      <td>...</td>\n",
       "      <td>1.0</td>\n",
       "      <td>NaN</td>\n",
       "      <td>NaN</td>\n",
       "      <td>89000.0</td>\n",
       "      <td>USD</td>\n",
       "      <td>NaN</td>\n",
       "      <td>Galicia 2800 Depto 2 Ambientes Con Balcón Vill...</td>\n",
       "      <td>XINTEL(JUM-JUM-313)  \\n\\nExcelente departament...</td>\n",
       "      <td>Departamento</td>\n",
       "      <td>Venta</td>\n",
       "    </tr>\n",
       "    <tr>\n",
       "      <th>1</th>\n",
       "      <td>660204</td>\n",
       "      <td>FiY707h094LvsqOGHohO9Q==</td>\n",
       "      <td>Propiedad</td>\n",
       "      <td>2020-07-17</td>\n",
       "      <td>9999-12-31</td>\n",
       "      <td>2020-07-17</td>\n",
       "      <td>-34.620686</td>\n",
       "      <td>-58.453972</td>\n",
       "      <td>Argentina</td>\n",
       "      <td>Capital Federal</td>\n",
       "      <td>...</td>\n",
       "      <td>2.0</td>\n",
       "      <td>NaN</td>\n",
       "      <td>NaN</td>\n",
       "      <td>190000.0</td>\n",
       "      <td>USD</td>\n",
       "      <td>NaN</td>\n",
       "      <td>DEPARTAMENTO A ESTRENAR AL FRENTE CON COCHERA</td>\n",
       "      <td>EXCELENTE DPTO A ESTRENAR AL FRENTE CON COCHER...</td>\n",
       "      <td>Departamento</td>\n",
       "      <td>Venta</td>\n",
       "    </tr>\n",
       "    <tr>\n",
       "      <th>2</th>\n",
       "      <td>961496</td>\n",
       "      <td>VKAgMtgXuRfeD2XHnLPWNQ==</td>\n",
       "      <td>Propiedad</td>\n",
       "      <td>2020-06-19</td>\n",
       "      <td>2020-12-03</td>\n",
       "      <td>2020-06-19</td>\n",
       "      <td>-34.590569</td>\n",
       "      <td>-58.425215</td>\n",
       "      <td>Argentina</td>\n",
       "      <td>Capital Federal</td>\n",
       "      <td>...</td>\n",
       "      <td>2.0</td>\n",
       "      <td>98.0</td>\n",
       "      <td>68.0</td>\n",
       "      <td>360000.0</td>\n",
       "      <td>USD</td>\n",
       "      <td>NaN</td>\n",
       "      <td>Excelente departamento 4 ambientes con terraza...</td>\n",
       "      <td>Patio El Salvador . inicio de obra nmarzo 2019...</td>\n",
       "      <td>Departamento</td>\n",
       "      <td>Venta</td>\n",
       "    </tr>\n",
       "    <tr>\n",
       "      <th>3</th>\n",
       "      <td>292569</td>\n",
       "      <td>H56oekWpzEOKT5aXM43WLA==</td>\n",
       "      <td>Propiedad</td>\n",
       "      <td>2021-02-24</td>\n",
       "      <td>2021-03-01</td>\n",
       "      <td>2021-02-24</td>\n",
       "      <td>-34.577440</td>\n",
       "      <td>-58.485041</td>\n",
       "      <td>Argentina</td>\n",
       "      <td>Capital Federal</td>\n",
       "      <td>...</td>\n",
       "      <td>1.0</td>\n",
       "      <td>118.0</td>\n",
       "      <td>96.0</td>\n",
       "      <td>285000.0</td>\n",
       "      <td>USD</td>\n",
       "      <td>NaN</td>\n",
       "      <td>Venta depto 4 ambientes/terraza en V. Urquiza</td>\n",
       "      <td>Corredor Responsable: MARIANO AUFSEHER - CPI 4...</td>\n",
       "      <td>Departamento</td>\n",
       "      <td>Venta</td>\n",
       "    </tr>\n",
       "    <tr>\n",
       "      <th>4</th>\n",
       "      <td>278737</td>\n",
       "      <td>FPPomZ4bizdYOzH9KlsLDg==</td>\n",
       "      <td>Propiedad</td>\n",
       "      <td>2020-11-17</td>\n",
       "      <td>2021-04-13</td>\n",
       "      <td>2020-11-17</td>\n",
       "      <td>-34.615851</td>\n",
       "      <td>-58.439566</td>\n",
       "      <td>Argentina</td>\n",
       "      <td>Capital Federal</td>\n",
       "      <td>...</td>\n",
       "      <td>1.0</td>\n",
       "      <td>61.0</td>\n",
       "      <td>52.0</td>\n",
       "      <td>145000.0</td>\n",
       "      <td>USD</td>\n",
       "      <td>NaN</td>\n",
       "      <td>Departamento de 2 ambientes c terraza a estrenar</td>\n",
       "      <td>Corredor Responsable: MARCELO GRUNBAUM - CMCPS...</td>\n",
       "      <td>Departamento</td>\n",
       "      <td>Venta</td>\n",
       "    </tr>\n",
       "  </tbody>\n",
       "</table>\n",
       "<p>5 rows × 26 columns</p>\n",
       "</div>"
      ],
      "text/plain": [
       "   Unnamed: 0                        id    ad_type  start_date    end_date  \\\n",
       "0       63934  MlnOILxnUwm3KXFnNyOJig==  Propiedad  2020-07-06  2021-04-07   \n",
       "1      660204  FiY707h094LvsqOGHohO9Q==  Propiedad  2020-07-17  9999-12-31   \n",
       "2      961496  VKAgMtgXuRfeD2XHnLPWNQ==  Propiedad  2020-06-19  2020-12-03   \n",
       "3      292569  H56oekWpzEOKT5aXM43WLA==  Propiedad  2021-02-24  2021-03-01   \n",
       "4      278737  FPPomZ4bizdYOzH9KlsLDg==  Propiedad  2020-11-17  2021-04-13   \n",
       "\n",
       "   created_on        lat        lon         l1               l2  ...  \\\n",
       "0  2020-07-06 -34.618041 -58.475124  Argentina  Capital Federal  ...   \n",
       "1  2020-07-17 -34.620686 -58.453972  Argentina  Capital Federal  ...   \n",
       "2  2020-06-19 -34.590569 -58.425215  Argentina  Capital Federal  ...   \n",
       "3  2021-02-24 -34.577440 -58.485041  Argentina  Capital Federal  ...   \n",
       "4  2020-11-17 -34.615851 -58.439566  Argentina  Capital Federal  ...   \n",
       "\n",
       "  bathrooms surface_total  surface_covered     price  currency  price_period  \\\n",
       "0       1.0           NaN              NaN   89000.0       USD           NaN   \n",
       "1       2.0           NaN              NaN  190000.0       USD           NaN   \n",
       "2       2.0          98.0             68.0  360000.0       USD           NaN   \n",
       "3       1.0         118.0             96.0  285000.0       USD           NaN   \n",
       "4       1.0          61.0             52.0  145000.0       USD           NaN   \n",
       "\n",
       "                                               title  \\\n",
       "0  Galicia 2800 Depto 2 Ambientes Con Balcón Vill...   \n",
       "1      DEPARTAMENTO A ESTRENAR AL FRENTE CON COCHERA   \n",
       "2  Excelente departamento 4 ambientes con terraza...   \n",
       "3      Venta depto 4 ambientes/terraza en V. Urquiza   \n",
       "4   Departamento de 2 ambientes c terraza a estrenar   \n",
       "\n",
       "                                         description  property_type  \\\n",
       "0  XINTEL(JUM-JUM-313)  \\n\\nExcelente departament...   Departamento   \n",
       "1  EXCELENTE DPTO A ESTRENAR AL FRENTE CON COCHER...   Departamento   \n",
       "2  Patio El Salvador . inicio de obra nmarzo 2019...   Departamento   \n",
       "3  Corredor Responsable: MARIANO AUFSEHER - CPI 4...   Departamento   \n",
       "4  Corredor Responsable: MARCELO GRUNBAUM - CMCPS...   Departamento   \n",
       "\n",
       "   operation_type  \n",
       "0           Venta  \n",
       "1           Venta  \n",
       "2           Venta  \n",
       "3           Venta  \n",
       "4           Venta  \n",
       "\n",
       "[5 rows x 26 columns]"
      ]
     },
     "execution_count": 3,
     "metadata": {},
     "output_type": "execute_result"
    }
   ],
   "source": [
    "#Importamos el dataframe y verificamos las primeras filas\n",
    "capital_df = pd.read_csv('properati_capital.csv')\n",
    "capital_df.head()"
   ]
  },
  {
   "cell_type": "markdown",
   "id": "709c4be8",
   "metadata": {},
   "source": [
    "## Resumen preprocesamiento\n",
    "Aplicamos todas las modificaciones hechas al dataframe original durante el EDA."
   ]
  },
  {
   "cell_type": "code",
   "execution_count": 4,
   "id": "2cb94659",
   "metadata": {},
   "outputs": [],
   "source": [
    "capital_df.drop(labels=['id','ad_type','start_date','end_date','l1','l2','l5','l6','currency','price_period','title','description','operation_type'], axis=1, inplace = True)\n",
    "capital_df['surface_total'].fillna(capital_df['surface_total'].mean(), inplace = True)\n",
    "capital_df['surface_covered'].fillna(capital_df['surface_covered'].mean(), inplace = True)\n",
    "capital_df['rooms'].fillna(capital_df['rooms'].median(), inplace = True)\n",
    "capital_df.drop_duplicates(subset='Unnamed: 0', inplace=True, keep='last')\n",
    "capital_df = capital_df.loc[capital_df.price < 350000]\n",
    "capital_df = capital_df.drop(['Unnamed: 0',\"l4\",\"created_on\",\"lat\",\"lon\",\"bedrooms\",\"bathrooms\"], axis=1)"
   ]
  },
  {
   "cell_type": "code",
   "execution_count": 5,
   "id": "395d0463",
   "metadata": {
    "scrolled": true
   },
   "outputs": [
    {
     "data": {
      "text/html": [
       "<div>\n",
       "<style scoped>\n",
       "    .dataframe tbody tr th:only-of-type {\n",
       "        vertical-align: middle;\n",
       "    }\n",
       "\n",
       "    .dataframe tbody tr th {\n",
       "        vertical-align: top;\n",
       "    }\n",
       "\n",
       "    .dataframe thead th {\n",
       "        text-align: right;\n",
       "    }\n",
       "</style>\n",
       "<table border=\"1\" class=\"dataframe\">\n",
       "  <thead>\n",
       "    <tr style=\"text-align: right;\">\n",
       "      <th></th>\n",
       "      <th>l3</th>\n",
       "      <th>rooms</th>\n",
       "      <th>surface_total</th>\n",
       "      <th>surface_covered</th>\n",
       "      <th>price</th>\n",
       "      <th>property_type</th>\n",
       "    </tr>\n",
       "  </thead>\n",
       "  <tbody>\n",
       "    <tr>\n",
       "      <th>1</th>\n",
       "      <td>Caballito</td>\n",
       "      <td>3.0</td>\n",
       "      <td>123.681431</td>\n",
       "      <td>94.367801</td>\n",
       "      <td>190000.0</td>\n",
       "      <td>Departamento</td>\n",
       "    </tr>\n",
       "    <tr>\n",
       "      <th>4</th>\n",
       "      <td>Caballito</td>\n",
       "      <td>2.0</td>\n",
       "      <td>61.000000</td>\n",
       "      <td>52.000000</td>\n",
       "      <td>145000.0</td>\n",
       "      <td>Departamento</td>\n",
       "    </tr>\n",
       "    <tr>\n",
       "      <th>5</th>\n",
       "      <td>Villa del Parque</td>\n",
       "      <td>3.0</td>\n",
       "      <td>66.000000</td>\n",
       "      <td>58.000000</td>\n",
       "      <td>153000.0</td>\n",
       "      <td>Departamento</td>\n",
       "    </tr>\n",
       "    <tr>\n",
       "      <th>7</th>\n",
       "      <td>Almagro</td>\n",
       "      <td>3.0</td>\n",
       "      <td>84.000000</td>\n",
       "      <td>70.000000</td>\n",
       "      <td>165000.0</td>\n",
       "      <td>PH</td>\n",
       "    </tr>\n",
       "    <tr>\n",
       "      <th>8</th>\n",
       "      <td>Palermo</td>\n",
       "      <td>1.0</td>\n",
       "      <td>33.000000</td>\n",
       "      <td>33.000000</td>\n",
       "      <td>92000.0</td>\n",
       "      <td>Departamento</td>\n",
       "    </tr>\n",
       "  </tbody>\n",
       "</table>\n",
       "</div>"
      ],
      "text/plain": [
       "                 l3  rooms  surface_total  surface_covered     price  \\\n",
       "1         Caballito    3.0     123.681431        94.367801  190000.0   \n",
       "4         Caballito    2.0      61.000000        52.000000  145000.0   \n",
       "5  Villa del Parque    3.0      66.000000        58.000000  153000.0   \n",
       "7           Almagro    3.0      84.000000        70.000000  165000.0   \n",
       "8           Palermo    1.0      33.000000        33.000000   92000.0   \n",
       "\n",
       "  property_type  \n",
       "1  Departamento  \n",
       "4  Departamento  \n",
       "5  Departamento  \n",
       "7            PH  \n",
       "8  Departamento  "
      ]
     },
     "execution_count": 5,
     "metadata": {},
     "output_type": "execute_result"
    }
   ],
   "source": [
    "#Verificamos que se las modificaciones se hayan ejecutado correctamente \n",
    "capital_df.head()"
   ]
  },
  {
   "cell_type": "code",
   "execution_count": 6,
   "id": "bdb70991",
   "metadata": {},
   "outputs": [],
   "source": [
    "## Obtenemos las dummies de dataset modificado y dropeamos la variable \"price\" a estimar\n",
    "x = pd.get_dummies(data=capital_df, columns=['property_type','l3'])\n",
    "x = x.drop(['price',], axis=1)"
   ]
  },
  {
   "cell_type": "code",
   "execution_count": 7,
   "id": "5a263e78",
   "metadata": {},
   "outputs": [],
   "source": [
    "## Extraemos la variable \"Price\" y la guardamos en \"y\"\n",
    "y = np.array(capital_df[[\"price\"]])"
   ]
  },
  {
   "cell_type": "code",
   "execution_count": 8,
   "id": "5dc5d9c4",
   "metadata": {},
   "outputs": [],
   "source": [
    "#Dividimos el dataset en xtrain, xtest, ytrain, ytest.\n",
    "xtrain, xtest, ytrain, ytest = train_test_split(x, y, test_size=0.30, random_state=22)"
   ]
  },
  {
   "cell_type": "code",
   "execution_count": 9,
   "id": "f449e7e5",
   "metadata": {},
   "outputs": [],
   "source": [
    "#Separamos las variables dummies de las reales\n",
    "x_train_r = xtrain.iloc[:,0:3]\n",
    "x_train_d = xtrain.iloc[:,3:63]\n",
    "\n",
    "x_test_r = xtest.iloc[:,0:3]\n",
    "x_test_d = xtest.iloc[:,3:63]"
   ]
  },
  {
   "cell_type": "code",
   "execution_count": 10,
   "id": "351e14b7",
   "metadata": {},
   "outputs": [],
   "source": [
    "## Escalamos ambas variables reales de x_train\n",
    "scaler = preprocessing.StandardScaler().fit(x_train_r)\n",
    "xtrain_scal = scaler.transform(x_train_r)\n",
    "xtest_scal = scaler.transform(x_test_r)"
   ]
  },
  {
   "cell_type": "code",
   "execution_count": 11,
   "id": "9386a6b4",
   "metadata": {},
   "outputs": [],
   "source": [
    "## Convertimos el formato de las dummies de float64 a numpy\n",
    "## Concatenamos las dummies a las variables ya escaladas\n",
    "x_train_d=x_train_d.to_numpy(dtype=\"float64\")\n",
    "x_test_d=x_test_d.to_numpy(dtype=\"float64\")\n",
    "xtrain_scal = np.concatenate((xtrain_scal, x_train_d), axis = 1)\n",
    "xtest_scal = np.concatenate((xtest_scal, x_test_d), axis = 1)"
   ]
  },
  {
   "cell_type": "markdown",
   "id": "909eed4a",
   "metadata": {},
   "source": [
    "## Modelos machine learning\n",
    "Procedemos a ejecutar dos modelos: \n",
    "1. Support Vector Regression\n",
    "2. Ridge Regression"
   ]
  },
  {
   "cell_type": "markdown",
   "id": "53dbf1bd",
   "metadata": {},
   "source": [
    "### SVR"
   ]
  },
  {
   "cell_type": "code",
   "execution_count": 12,
   "id": "96e9e477",
   "metadata": {},
   "outputs": [
    {
     "name": "stdout",
     "output_type": "stream",
     "text": [
      "Fitting 3 folds for each of 8 candidates, totalling 24 fits\n",
      "[CV 1/3] END ..C=100, gamma=0.01, kernel=linear;, score=0.363 total time=  22.3s\n",
      "[CV 2/3] END ..C=100, gamma=0.01, kernel=linear;, score=0.395 total time=  23.9s\n",
      "[CV 3/3] END ..C=100, gamma=0.01, kernel=linear;, score=0.400 total time=  19.7s\n",
      "[CV 1/3] END .C=100, gamma=0.01, kernel=sigmoid;, score=0.045 total time=  26.6s\n",
      "[CV 2/3] END .C=100, gamma=0.01, kernel=sigmoid;, score=0.039 total time=  32.8s\n",
      "[CV 3/3] END .C=100, gamma=0.01, kernel=sigmoid;, score=0.036 total time=  27.8s\n",
      "[CV 1/3] END ...C=100, gamma=0.1, kernel=linear;, score=0.363 total time=  21.0s\n",
      "[CV 2/3] END ...C=100, gamma=0.1, kernel=linear;, score=0.395 total time=  21.3s\n",
      "[CV 3/3] END ...C=100, gamma=0.1, kernel=linear;, score=0.400 total time=  29.0s\n",
      "[CV 1/3] END ..C=100, gamma=0.1, kernel=sigmoid;, score=0.288 total time=  25.8s\n",
      "[CV 2/3] END ..C=100, gamma=0.1, kernel=sigmoid;, score=0.289 total time=  29.7s\n",
      "[CV 3/3] END ..C=100, gamma=0.1, kernel=sigmoid;, score=0.296 total time=  31.3s\n",
      "[CV 1/3] END .C=1000, gamma=0.01, kernel=linear;, score=0.406 total time=  27.6s\n",
      "[CV 2/3] END .C=1000, gamma=0.01, kernel=linear;, score=0.440 total time=  24.4s\n",
      "[CV 3/3] END .C=1000, gamma=0.01, kernel=linear;, score=0.442 total time=  20.9s\n",
      "[CV 1/3] END C=1000, gamma=0.01, kernel=sigmoid;, score=0.275 total time=  24.0s\n",
      "[CV 2/3] END C=1000, gamma=0.01, kernel=sigmoid;, score=0.288 total time=  30.0s\n",
      "[CV 3/3] END C=1000, gamma=0.01, kernel=sigmoid;, score=0.292 total time=  28.0s\n",
      "[CV 1/3] END ..C=1000, gamma=0.1, kernel=linear;, score=0.406 total time=  22.1s\n",
      "[CV 2/3] END ..C=1000, gamma=0.1, kernel=linear;, score=0.440 total time=  20.5s\n",
      "[CV 3/3] END ..C=1000, gamma=0.1, kernel=linear;, score=0.442 total time=  17.9s\n",
      "[CV 1/3] END .C=1000, gamma=0.1, kernel=sigmoid;, score=0.331 total time=  23.9s\n",
      "[CV 2/3] END .C=1000, gamma=0.1, kernel=sigmoid;, score=0.337 total time=  25.0s\n",
      "[CV 3/3] END .C=1000, gamma=0.1, kernel=sigmoid;, score=0.360 total time=  26.5s\n"
     ]
    },
    {
     "data": {
      "text/plain": [
       "GridSearchCV(cv=3, estimator=SVR(),\n",
       "             param_grid={'C': [100, 1000], 'gamma': [0.01, 0.1],\n",
       "                         'kernel': ('linear', 'sigmoid')},\n",
       "             verbose=3)"
      ]
     },
     "execution_count": 12,
     "metadata": {},
     "output_type": "execute_result"
    }
   ],
   "source": [
    "## Definimos el SVR y asignamos 2 valores a cada hiperparametro\n",
    "## Ejecutamos el GridSearch y CrossValidation\n",
    "svreg = SVR()\n",
    "param_svreg = {'kernel':('linear', 'sigmoid'), 'C':[100, 1000 ], 'gamma':[ 0.01,0.1]}\n",
    "regressor_svr = GridSearchCV(svreg, param_svreg, cv=3, verbose=3)\n",
    "regressor_svr.fit(xtrain_scal, ytrain.ravel())"
   ]
  },
  {
   "cell_type": "code",
   "execution_count": 13,
   "id": "2d1968ab",
   "metadata": {},
   "outputs": [
    {
     "data": {
      "text/plain": [
       "{'C': 1000, 'gamma': 0.01, 'kernel': 'linear'}"
      ]
     },
     "execution_count": 13,
     "metadata": {},
     "output_type": "execute_result"
    }
   ],
   "source": [
    "## Mostramos los mejores hiperparametros\n",
    "best_params1 = regressor_svr.best_params_\n",
    "best_params1"
   ]
  },
  {
   "cell_type": "code",
   "execution_count": 14,
   "id": "8a64d1ac",
   "metadata": {},
   "outputs": [
    {
     "data": {
      "text/plain": [
       "0.4294303901171681"
      ]
     },
     "execution_count": 14,
     "metadata": {},
     "output_type": "execute_result"
    }
   ],
   "source": [
    "## Mostramos el mejor score de dichos hiperparametros\n",
    "best_score1 = regressor_svr.best_score_\n",
    "best_score1"
   ]
  },
  {
   "cell_type": "code",
   "execution_count": 15,
   "id": "55e265ad",
   "metadata": {},
   "outputs": [],
   "source": [
    "## Calculamos las predicciones con el modelo aprendido\n",
    "ypred1 = regressor_svr.predict(xtest_scal)"
   ]
  },
  {
   "cell_type": "code",
   "execution_count": 16,
   "id": "3c779086",
   "metadata": {
    "scrolled": true
   },
   "outputs": [
    {
     "data": {
      "text/plain": [
       "50346.44179161922"
      ]
     },
     "execution_count": 16,
     "metadata": {},
     "output_type": "execute_result"
    }
   ],
   "source": [
    "## Calculamos RMSE\n",
    "RMSE_svr_1 = np.sqrt(mean_squared_error(ytest, ypred1))\n",
    "RMSE_svr_1"
   ]
  },
  {
   "cell_type": "markdown",
   "id": "85192ef4",
   "metadata": {},
   "source": [
    "### Ridge Regression"
   ]
  },
  {
   "cell_type": "code",
   "execution_count": 17,
   "id": "7770109b",
   "metadata": {},
   "outputs": [],
   "source": [
    "## Definimos la funcion Ridge Regression que calculará los pesos W\n",
    "def ridge_reg(x,y,lambd):\n",
    "  n, m = x.shape\n",
    "  I = np.identity(m)\n",
    "  w = np.dot(np.dot(np.linalg.inv(np.dot(x.T, x) + lambd * I), x.T), y)\n",
    "  return w"
   ]
  },
  {
   "cell_type": "code",
   "execution_count": 18,
   "id": "0a46f0fc",
   "metadata": {},
   "outputs": [],
   "source": [
    "## Definimos el hiperparametro costo lambda\n",
    "lamb = 30"
   ]
  },
  {
   "cell_type": "code",
   "execution_count": 19,
   "id": "170476e7",
   "metadata": {},
   "outputs": [],
   "source": [
    "## Calculamos los pesos utilizando la funcion previamente definida\n",
    "weights = ridge_reg(xtrain_scal,ytrain, lamb)"
   ]
  },
  {
   "cell_type": "code",
   "execution_count": 20,
   "id": "d26a8208",
   "metadata": {},
   "outputs": [
    {
     "data": {
      "text/plain": [
       "262261.7261741567"
      ]
     },
     "execution_count": 20,
     "metadata": {},
     "output_type": "execute_result"
    }
   ],
   "source": [
    "## Normalizamos los pesos obtenidos bajo norma 2\n",
    "np.linalg.norm(weights, ord = 2)"
   ]
  },
  {
   "cell_type": "code",
   "execution_count": 21,
   "id": "8974d290",
   "metadata": {},
   "outputs": [],
   "source": [
    "## Guardamos los pesos en un array para poder multriplicar con xtest_scal\n",
    "weights_array = np.asarray(weights)"
   ]
  },
  {
   "cell_type": "code",
   "execution_count": 22,
   "id": "0ce70a0d",
   "metadata": {},
   "outputs": [],
   "source": [
    "## Calculamos las predicciones de xtest_scal utilizando los pesos aprendidos\n",
    "ypred2 = np.dot(xtest_scal, weights_array)"
   ]
  },
  {
   "cell_type": "code",
   "execution_count": 23,
   "id": "05642189",
   "metadata": {},
   "outputs": [
    {
     "data": {
      "text/plain": [
       "49277.7017281241"
      ]
     },
     "execution_count": 23,
     "metadata": {},
     "output_type": "execute_result"
    }
   ],
   "source": [
    "## Calculamos RMSE\n",
    "RMSE_rr_1 = np.sqrt(np.mean(np.square(ytest - ypred2)))\n",
    "RMSE_rr_1"
   ]
  },
  {
   "cell_type": "markdown",
   "id": "9bfa43d8",
   "metadata": {},
   "source": [
    "## Reduccion de la dimensionalidad\n",
    "Elegimos aplicar el método **PCA** para reducir la dimensionalidad de los datos X con el fin obtener mejores resultados en ambos modelos."
   ]
  },
  {
   "cell_type": "code",
   "execution_count": 24,
   "id": "99fbbcac",
   "metadata": {},
   "outputs": [],
   "source": [
    "#Importamos libreria a utlizar\n",
    "from sklearn.decomposition import PCA\n",
    "# Definimos la cantidad de componentes a extraer\n",
    "n_comps = 55\n",
    "# Definimos PCA\n",
    "pca = PCA(n_components= n_comps)\n",
    "# Aplicamos fit_transform del PCA a nuestros datos\n",
    "xpca = pd.DataFrame(pca.fit_transform(xtrain_scal))\n",
    "xpca_test= pca.transform(xtest_scal)\n",
    "# Obtenemos los auto-valores\n",
    "eigenvalues = pca.explained_variance_ratio_"
   ]
  },
  {
   "cell_type": "code",
   "execution_count": 25,
   "id": "69d7eb67",
   "metadata": {},
   "outputs": [
    {
     "data": {
      "image/png": "[encoded data removed]",
      "text/plain": [
       "<Figure size 1080x288 with 1 Axes>"
      ]
     },
     "metadata": {
      "needs_background": "light"
     },
     "output_type": "display_data"
    }
   ],
   "source": [
    "## Imprimimos un grafico de barras donde se muestra la variabilidad que explica cada componente\n",
    "components = range(1,n_comps + 1)\n",
    "plt.figure(figsize=(15,4))\n",
    "plt.bar(components,eigenvalues)\n",
    "plt.xticks(components)\n",
    "plt.title('Variabilidad explicada por los ' + str(n_comps) + ' principales componentes')\n",
    "plt.xlabel('Top ' +str(n_comps) + ' Componentes principales')\n",
    "plt.ylabel('Variabilidad explicada')\n",
    "plt.show()"
   ]
  },
  {
   "cell_type": "markdown",
   "id": "c8d381b6",
   "metadata": {},
   "source": [
    "## SVR (con PCA)\n",
    "Volvemos a aplicar el modelo SVR con la nueva matriz de datos reducidos"
   ]
  },
  {
   "cell_type": "code",
   "execution_count": 26,
   "id": "72235bd1",
   "metadata": {},
   "outputs": [
    {
     "name": "stdout",
     "output_type": "stream",
     "text": [
      "Fitting 3 folds for each of 8 candidates, totalling 24 fits\n",
      "[CV 1/3] END ..C=100, gamma=0.01, kernel=linear;, score=0.363 total time=  18.0s\n",
      "[CV 2/3] END ..C=100, gamma=0.01, kernel=linear;, score=0.395 total time=  20.9s\n",
      "[CV 3/3] END ..C=100, gamma=0.01, kernel=linear;, score=0.400 total time=  24.7s\n",
      "[CV 1/3] END .C=100, gamma=0.01, kernel=sigmoid;, score=0.045 total time=  31.7s\n",
      "[CV 2/3] END .C=100, gamma=0.01, kernel=sigmoid;, score=0.039 total time=  33.0s\n",
      "[CV 3/3] END .C=100, gamma=0.01, kernel=sigmoid;, score=0.036 total time=  28.8s\n",
      "[CV 1/3] END ...C=100, gamma=0.1, kernel=linear;, score=0.363 total time=  20.0s\n",
      "[CV 2/3] END ...C=100, gamma=0.1, kernel=linear;, score=0.395 total time=  20.3s\n",
      "[CV 3/3] END ...C=100, gamma=0.1, kernel=linear;, score=0.400 total time=  19.4s\n",
      "[CV 1/3] END ..C=100, gamma=0.1, kernel=sigmoid;, score=0.288 total time=  24.4s\n",
      "[CV 2/3] END ..C=100, gamma=0.1, kernel=sigmoid;, score=0.291 total time=  27.6s\n",
      "[CV 3/3] END ..C=100, gamma=0.1, kernel=sigmoid;, score=0.297 total time=  32.6s\n",
      "[CV 1/3] END .C=1000, gamma=0.01, kernel=linear;, score=0.406 total time=  18.9s\n",
      "[CV 2/3] END .C=1000, gamma=0.01, kernel=linear;, score=0.440 total time=  17.7s\n",
      "[CV 3/3] END .C=1000, gamma=0.01, kernel=linear;, score=0.442 total time=  17.6s\n",
      "[CV 1/3] END C=1000, gamma=0.01, kernel=sigmoid;, score=0.275 total time=  24.8s\n",
      "[CV 2/3] END C=1000, gamma=0.01, kernel=sigmoid;, score=0.288 total time=  24.9s\n",
      "[CV 3/3] END C=1000, gamma=0.01, kernel=sigmoid;, score=0.292 total time=  25.5s\n",
      "[CV 1/3] END ..C=1000, gamma=0.1, kernel=linear;, score=0.406 total time=  17.8s\n",
      "[CV 2/3] END ..C=1000, gamma=0.1, kernel=linear;, score=0.440 total time=  19.5s\n",
      "[CV 3/3] END ..C=1000, gamma=0.1, kernel=linear;, score=0.442 total time=  17.3s\n",
      "[CV 1/3] END .C=1000, gamma=0.1, kernel=sigmoid;, score=0.328 total time=  28.4s\n",
      "[CV 2/3] END .C=1000, gamma=0.1, kernel=sigmoid;, score=0.338 total time=  25.9s\n",
      "[CV 3/3] END .C=1000, gamma=0.1, kernel=sigmoid;, score=0.357 total time=  24.6s\n"
     ]
    },
    {
     "data": {
      "text/plain": [
       "GridSearchCV(cv=3, estimator=SVR(),\n",
       "             param_grid={'C': [100, 1000], 'gamma': [0.01, 0.1],\n",
       "                         'kernel': ('linear', 'sigmoid')},\n",
       "             verbose=3)"
      ]
     },
     "execution_count": 26,
     "metadata": {},
     "output_type": "execute_result"
    }
   ],
   "source": [
    "## Utilizamos los mismos hiperparametros de GridSearch que en el SVR anterior\n",
    "## Corremos el SVR con nueva matriz reducida \"xpca\"\n",
    "regressor_svr = GridSearchCV(svreg, param_svreg, cv=3, verbose=3)\n",
    "regressor_svr.fit(xpca, ytrain.ravel())"
   ]
  },
  {
   "cell_type": "code",
   "execution_count": 27,
   "id": "9e756d1b",
   "metadata": {},
   "outputs": [
    {
     "data": {
      "text/plain": [
       "{'C': 1000, 'gamma': 0.01, 'kernel': 'linear'}"
      ]
     },
     "execution_count": 27,
     "metadata": {},
     "output_type": "execute_result"
    }
   ],
   "source": [
    "## Mostramos los mejores hiperparametros\n",
    "best_params2 = regressor_svr.best_params_\n",
    "best_params2"
   ]
  },
  {
   "cell_type": "code",
   "execution_count": 28,
   "id": "7ae02d7f",
   "metadata": {},
   "outputs": [
    {
     "data": {
      "text/plain": [
       "0.4292590634840438"
      ]
     },
     "execution_count": 28,
     "metadata": {},
     "output_type": "execute_result"
    }
   ],
   "source": [
    "## Mostramos el mejor score de dichos hiperparametros\n",
    "best_score2 = regressor_svr.best_score_\n",
    "best_score2"
   ]
  },
  {
   "cell_type": "code",
   "execution_count": 29,
   "id": "603585ae",
   "metadata": {},
   "outputs": [],
   "source": [
    "## Calculamos las predicciones con los mejores hiperparametros aplicando SVR\n",
    "ypred3= regressor_svr.predict(xpca_test)"
   ]
  },
  {
   "cell_type": "code",
   "execution_count": 30,
   "id": "37e99252",
   "metadata": {
    "scrolled": true
   },
   "outputs": [
    {
     "data": {
      "text/plain": [
       "50361.20591252366"
      ]
     },
     "execution_count": 30,
     "metadata": {},
     "output_type": "execute_result"
    }
   ],
   "source": [
    "## Calculamos RMSE\n",
    "RMSE_svr_2 = np.sqrt(mean_squared_error(ytest, ypred3))\n",
    "RMSE_svr_2"
   ]
  },
  {
   "cell_type": "markdown",
   "id": "fd6dce7c",
   "metadata": {},
   "source": [
    "## Ridge Regression (con PCA)\n",
    "Volvemos a aplicar el modelo Ridge Regression con la nueva matriz de datos reducidos"
   ]
  },
  {
   "cell_type": "code",
   "execution_count": 31,
   "id": "6572edc9",
   "metadata": {},
   "outputs": [],
   "source": [
    "## Definimos la funcion Ridge Regression que calculará los pesos W\n",
    "def ridge_reg(x,y,lambd):\n",
    "  n, m = x.shape\n",
    "  I = np.identity(m)\n",
    "  w = np.dot(np.dot(np.linalg.inv(np.dot(x.T, x) + lambd * I), x.T), y)\n",
    "  return w"
   ]
  },
  {
   "cell_type": "code",
   "execution_count": 32,
   "id": "c111a07d",
   "metadata": {},
   "outputs": [],
   "source": [
    "## Definimos el hiperparametro costo lambda\n",
    "lamb = 30"
   ]
  },
  {
   "cell_type": "code",
   "execution_count": 33,
   "id": "f54b21e7",
   "metadata": {},
   "outputs": [],
   "source": [
    "## Calculamos los pesos utilizando la funcion previamente definida\n",
    "weightspca = ridge_reg(xpca,ytrain, lamb)"
   ]
  },
  {
   "cell_type": "code",
   "execution_count": 34,
   "id": "2ad0ae65",
   "metadata": {},
   "outputs": [
    {
     "data": {
      "text/plain": [
       "184575.36239687164"
      ]
     },
     "execution_count": 34,
     "metadata": {},
     "output_type": "execute_result"
    }
   ],
   "source": [
    "## Normalizamos los pesos obtenidos bajo norma 2\n",
    "np.linalg.norm(weightspca, ord = 2)"
   ]
  },
  {
   "cell_type": "code",
   "execution_count": 35,
   "id": "7cf3a916",
   "metadata": {},
   "outputs": [],
   "source": [
    "## Guardamos los pesos en un array para poder multriplicar con xtest_scal\n",
    "weights_arraypca = np.asarray(weightspca)"
   ]
  },
  {
   "cell_type": "code",
   "execution_count": 36,
   "id": "a3be0bdc",
   "metadata": {},
   "outputs": [],
   "source": [
    "## Calculamos las predicciones de xtest_scal utilizando los pesos aprendidos\n",
    "ypred4 = np.dot(xpca_test, weights_arraypca)"
   ]
  },
  {
   "cell_type": "code",
   "execution_count": 37,
   "id": "f3e3c057",
   "metadata": {},
   "outputs": [
    {
     "data": {
      "text/plain": [
       "153654.21985351449"
      ]
     },
     "execution_count": 37,
     "metadata": {},
     "output_type": "execute_result"
    }
   ],
   "source": [
    "## Calculamos RMSE\n",
    "RMSE_rr_2 = np.sqrt(np.mean(np.square(ytest - ypred4)))\n",
    "RMSE_rr_2"
   ]
  },
  {
   "cell_type": "markdown",
   "id": "6bae3188",
   "metadata": {},
   "source": [
    "# Resumen de resultados de modelos\n",
    "\n",
    "### SVR sin PCA\n",
    "\n",
    "- **Mejores Hiperparametros**: {'C': 1000, 'gamma': 0.01, 'kernel': 'linear'}\n",
    "- **Score**: 0.4294\n",
    "- **RMSE**: 50346.4417\n",
    "\n",
    "### Ridge Regression sin PCA\n",
    "- **Lambda**: 30\n",
    "- **RMSE**: 49277.7017\n",
    "\n",
    "### SVR con PCA\n",
    "\n",
    "- **Mejores Hiperparametros**: {'C': 1000, 'gamma': 0.01, 'kernel': 'linear'}\n",
    "- **Score**: 0.4292\n",
    "- **RMSE**: 50361.2059\n",
    "\n",
    "### Ridge Regression con PCA\n",
    "- **Lambda**: 30\n",
    "- **RMSE**: 153654.2198\n"
   ]
  },
  {
   "cell_type": "code",
   "execution_count": null,
   "id": "e9f86207",
   "metadata": {},
   "outputs": [],
   "source": []
  }
 ],
 "metadata": {
  "kernelspec": {
   "display_name": "Python 3 (ipykernel)",
   "language": "python",
   "name": "python3"
  },
  "language_info": {
   "codemirror_mode": {
    "name": "ipython",
    "version": 3
   },
   "file_extension": ".py",
   "mimetype": "text/x-python",
   "name": "python",
   "nbconvert_exporter": "python",
   "pygments_lexer": "ipython3",
   "version": "3.9.12"
  }
 },
 "nbformat": 4,
 "nbformat_minor": 5
}
