{
 "cells": [
  {
   "cell_type": "code",
   "execution_count": 1,
   "id": "8f8dfcfa",
   "metadata": {},
   "outputs": [],
   "source": [
    "#Datos\n",
    "import pandas as pd\n",
    "import numpy as np\n",
    "#Graficos \n",
    "import matplotlib.pyplot as plt\n",
    "import seaborn as sns\n",
    "#Otros \n",
    "import warnings\n",
    "warnings.filterwarnings('ignore')"
   ]
  },
  {
   "cell_type": "markdown",
   "id": "6e4aeb35",
   "metadata": {},
   "source": [
    "# Introducción\n",
    "\n",
    "En el presente notebooks, vamos a realizar el preprocesamiento de los datos en detalle, para luego usar los dataframes resultantes en la realización de *Análisis Exploratorio de Datos* y *Aprendizaje Supervisado*"
   ]
  },
  {
   "cell_type": "code",
   "execution_count": 20,
   "id": "336a0c21",
   "metadata": {},
   "outputs": [
    {
     "data": {
      "text/html": [
       "<div>\n",
       "<style scoped>\n",
       "    .dataframe tbody tr th:only-of-type {\n",
       "        vertical-align: middle;\n",
       "    }\n",
       "\n",
       "    .dataframe tbody tr th {\n",
       "        vertical-align: top;\n",
       "    }\n",
       "\n",
       "    .dataframe thead th {\n",
       "        text-align: right;\n",
       "    }\n",
       "</style>\n",
       "<table border=\"1\" class=\"dataframe\">\n",
       "  <thead>\n",
       "    <tr style=\"text-align: right;\">\n",
       "      <th></th>\n",
       "      <th>Unnamed: 0</th>\n",
       "      <th>id</th>\n",
       "      <th>ad_type</th>\n",
       "      <th>start_date</th>\n",
       "      <th>end_date</th>\n",
       "      <th>created_on</th>\n",
       "      <th>lat</th>\n",
       "      <th>lon</th>\n",
       "      <th>l1</th>\n",
       "      <th>l2</th>\n",
       "      <th>...</th>\n",
       "      <th>bathrooms</th>\n",
       "      <th>surface_total</th>\n",
       "      <th>surface_covered</th>\n",
       "      <th>price</th>\n",
       "      <th>currency</th>\n",
       "      <th>price_period</th>\n",
       "      <th>title</th>\n",
       "      <th>description</th>\n",
       "      <th>property_type</th>\n",
       "      <th>operation_type</th>\n",
       "    </tr>\n",
       "  </thead>\n",
       "  <tbody>\n",
       "    <tr>\n",
       "      <th>0</th>\n",
       "      <td>63934</td>\n",
       "      <td>MlnOILxnUwm3KXFnNyOJig==</td>\n",
       "      <td>Propiedad</td>\n",
       "      <td>2020-07-06</td>\n",
       "      <td>2021-04-07</td>\n",
       "      <td>2020-07-06</td>\n",
       "      <td>-34.618041</td>\n",
       "      <td>-58.475124</td>\n",
       "      <td>Argentina</td>\n",
       "      <td>Capital Federal</td>\n",
       "      <td>...</td>\n",
       "      <td>1.0</td>\n",
       "      <td>NaN</td>\n",
       "      <td>NaN</td>\n",
       "      <td>89000.0</td>\n",
       "      <td>USD</td>\n",
       "      <td>NaN</td>\n",
       "      <td>Galicia 2800 Depto 2 Ambientes Con Balcón Vill...</td>\n",
       "      <td>XINTEL(JUM-JUM-313)  \\n\\nExcelente departament...</td>\n",
       "      <td>Departamento</td>\n",
       "      <td>Venta</td>\n",
       "    </tr>\n",
       "    <tr>\n",
       "      <th>1</th>\n",
       "      <td>660204</td>\n",
       "      <td>FiY707h094LvsqOGHohO9Q==</td>\n",
       "      <td>Propiedad</td>\n",
       "      <td>2020-07-17</td>\n",
       "      <td>9999-12-31</td>\n",
       "      <td>2020-07-17</td>\n",
       "      <td>-34.620686</td>\n",
       "      <td>-58.453972</td>\n",
       "      <td>Argentina</td>\n",
       "      <td>Capital Federal</td>\n",
       "      <td>...</td>\n",
       "      <td>2.0</td>\n",
       "      <td>NaN</td>\n",
       "      <td>NaN</td>\n",
       "      <td>190000.0</td>\n",
       "      <td>USD</td>\n",
       "      <td>NaN</td>\n",
       "      <td>DEPARTAMENTO A ESTRENAR AL FRENTE CON COCHERA</td>\n",
       "      <td>EXCELENTE DPTO A ESTRENAR AL FRENTE CON COCHER...</td>\n",
       "      <td>Departamento</td>\n",
       "      <td>Venta</td>\n",
       "    </tr>\n",
       "    <tr>\n",
       "      <th>2</th>\n",
       "      <td>961496</td>\n",
       "      <td>VKAgMtgXuRfeD2XHnLPWNQ==</td>\n",
       "      <td>Propiedad</td>\n",
       "      <td>2020-06-19</td>\n",
       "      <td>2020-12-03</td>\n",
       "      <td>2020-06-19</td>\n",
       "      <td>-34.590569</td>\n",
       "      <td>-58.425215</td>\n",
       "      <td>Argentina</td>\n",
       "      <td>Capital Federal</td>\n",
       "      <td>...</td>\n",
       "      <td>2.0</td>\n",
       "      <td>98.0</td>\n",
       "      <td>68.0</td>\n",
       "      <td>360000.0</td>\n",
       "      <td>USD</td>\n",
       "      <td>NaN</td>\n",
       "      <td>Excelente departamento 4 ambientes con terraza...</td>\n",
       "      <td>Patio El Salvador . inicio de obra nmarzo 2019...</td>\n",
       "      <td>Departamento</td>\n",
       "      <td>Venta</td>\n",
       "    </tr>\n",
       "    <tr>\n",
       "      <th>3</th>\n",
       "      <td>292569</td>\n",
       "      <td>H56oekWpzEOKT5aXM43WLA==</td>\n",
       "      <td>Propiedad</td>\n",
       "      <td>2021-02-24</td>\n",
       "      <td>2021-03-01</td>\n",
       "      <td>2021-02-24</td>\n",
       "      <td>-34.577440</td>\n",
       "      <td>-58.485041</td>\n",
       "      <td>Argentina</td>\n",
       "      <td>Capital Federal</td>\n",
       "      <td>...</td>\n",
       "      <td>1.0</td>\n",
       "      <td>118.0</td>\n",
       "      <td>96.0</td>\n",
       "      <td>285000.0</td>\n",
       "      <td>USD</td>\n",
       "      <td>NaN</td>\n",
       "      <td>Venta depto 4 ambientes/terraza en V. Urquiza</td>\n",
       "      <td>Corredor Responsable: MARIANO AUFSEHER - CPI 4...</td>\n",
       "      <td>Departamento</td>\n",
       "      <td>Venta</td>\n",
       "    </tr>\n",
       "    <tr>\n",
       "      <th>4</th>\n",
       "      <td>278737</td>\n",
       "      <td>FPPomZ4bizdYOzH9KlsLDg==</td>\n",
       "      <td>Propiedad</td>\n",
       "      <td>2020-11-17</td>\n",
       "      <td>2021-04-13</td>\n",
       "      <td>2020-11-17</td>\n",
       "      <td>-34.615851</td>\n",
       "      <td>-58.439566</td>\n",
       "      <td>Argentina</td>\n",
       "      <td>Capital Federal</td>\n",
       "      <td>...</td>\n",
       "      <td>1.0</td>\n",
       "      <td>61.0</td>\n",
       "      <td>52.0</td>\n",
       "      <td>145000.0</td>\n",
       "      <td>USD</td>\n",
       "      <td>NaN</td>\n",
       "      <td>Departamento de 2 ambientes c terraza a estrenar</td>\n",
       "      <td>Corredor Responsable: MARCELO GRUNBAUM - CMCPS...</td>\n",
       "      <td>Departamento</td>\n",
       "      <td>Venta</td>\n",
       "    </tr>\n",
       "  </tbody>\n",
       "</table>\n",
       "<p>5 rows × 26 columns</p>\n",
       "</div>"
      ],
      "text/plain": [
       "   Unnamed: 0                        id    ad_type  start_date    end_date  \\\n",
       "0       63934  MlnOILxnUwm3KXFnNyOJig==  Propiedad  2020-07-06  2021-04-07   \n",
       "1      660204  FiY707h094LvsqOGHohO9Q==  Propiedad  2020-07-17  9999-12-31   \n",
       "2      961496  VKAgMtgXuRfeD2XHnLPWNQ==  Propiedad  2020-06-19  2020-12-03   \n",
       "3      292569  H56oekWpzEOKT5aXM43WLA==  Propiedad  2021-02-24  2021-03-01   \n",
       "4      278737  FPPomZ4bizdYOzH9KlsLDg==  Propiedad  2020-11-17  2021-04-13   \n",
       "\n",
       "   created_on        lat        lon         l1               l2  ...  \\\n",
       "0  2020-07-06 -34.618041 -58.475124  Argentina  Capital Federal  ...   \n",
       "1  2020-07-17 -34.620686 -58.453972  Argentina  Capital Federal  ...   \n",
       "2  2020-06-19 -34.590569 -58.425215  Argentina  Capital Federal  ...   \n",
       "3  2021-02-24 -34.577440 -58.485041  Argentina  Capital Federal  ...   \n",
       "4  2020-11-17 -34.615851 -58.439566  Argentina  Capital Federal  ...   \n",
       "\n",
       "  bathrooms surface_total  surface_covered     price  currency  price_period  \\\n",
       "0       1.0           NaN              NaN   89000.0       USD           NaN   \n",
       "1       2.0           NaN              NaN  190000.0       USD           NaN   \n",
       "2       2.0          98.0             68.0  360000.0       USD           NaN   \n",
       "3       1.0         118.0             96.0  285000.0       USD           NaN   \n",
       "4       1.0          61.0             52.0  145000.0       USD           NaN   \n",
       "\n",
       "                                               title  \\\n",
       "0  Galicia 2800 Depto 2 Ambientes Con Balcón Vill...   \n",
       "1      DEPARTAMENTO A ESTRENAR AL FRENTE CON COCHERA   \n",
       "2  Excelente departamento 4 ambientes con terraza...   \n",
       "3      Venta depto 4 ambientes/terraza en V. Urquiza   \n",
       "4   Departamento de 2 ambientes c terraza a estrenar   \n",
       "\n",
       "                                         description  property_type  \\\n",
       "0  XINTEL(JUM-JUM-313)  \\n\\nExcelente departament...   Departamento   \n",
       "1  EXCELENTE DPTO A ESTRENAR AL FRENTE CON COCHER...   Departamento   \n",
       "2  Patio El Salvador . inicio de obra nmarzo 2019...   Departamento   \n",
       "3  Corredor Responsable: MARIANO AUFSEHER - CPI 4...   Departamento   \n",
       "4  Corredor Responsable: MARCELO GRUNBAUM - CMCPS...   Departamento   \n",
       "\n",
       "   operation_type  \n",
       "0           Venta  \n",
       "1           Venta  \n",
       "2           Venta  \n",
       "3           Venta  \n",
       "4           Venta  \n",
       "\n",
       "[5 rows x 26 columns]"
      ]
     },
     "execution_count": 20,
     "metadata": {},
     "output_type": "execute_result"
    }
   ],
   "source": [
    "#Importamos el dataframe y verificamos las primeras filas\n",
    "\n",
    "capital_df = pd.read_csv('properati_capital.csv')\n",
    "capital_df.head()"
   ]
  },
  {
   "cell_type": "code",
   "execution_count": 21,
   "id": "c194cd22",
   "metadata": {},
   "outputs": [
    {
     "data": {
      "text/plain": [
       "(38656, 26)"
      ]
     },
     "execution_count": 21,
     "metadata": {},
     "output_type": "execute_result"
    }
   ],
   "source": [
    "#Verificamos las dimensiones del dataframe\n",
    "\n",
    "np.shape(capital_df)"
   ]
  },
  {
   "cell_type": "code",
   "execution_count": 22,
   "id": "4ad4d942",
   "metadata": {},
   "outputs": [
    {
     "name": "stdout",
     "output_type": "stream",
     "text": [
      "<class 'pandas.core.frame.DataFrame'>\n",
      "RangeIndex: 38656 entries, 0 to 38655\n",
      "Data columns (total 26 columns):\n",
      " #   Column           Non-Null Count  Dtype  \n",
      "---  ------           --------------  -----  \n",
      " 0   Unnamed: 0       38656 non-null  int64  \n",
      " 1   id               38656 non-null  object \n",
      " 2   ad_type          38656 non-null  object \n",
      " 3   start_date       38656 non-null  object \n",
      " 4   end_date         38656 non-null  object \n",
      " 5   created_on       38656 non-null  object \n",
      " 6   lat              36585 non-null  float64\n",
      " 7   lon              36585 non-null  float64\n",
      " 8   l1               38656 non-null  object \n",
      " 9   l2               38656 non-null  object \n",
      " 10  l3               38519 non-null  object \n",
      " 11  l4               1145 non-null   object \n",
      " 12  l5               0 non-null      float64\n",
      " 13  l6               0 non-null      float64\n",
      " 14  rooms            36095 non-null  float64\n",
      " 15  bedrooms         31121 non-null  float64\n",
      " 16  bathrooms        36320 non-null  float64\n",
      " 17  surface_total    22645 non-null  float64\n",
      " 18  surface_covered  22678 non-null  float64\n",
      " 19  price            38656 non-null  float64\n",
      " 20  currency         38656 non-null  object \n",
      " 21  price_period     0 non-null      float64\n",
      " 22  title            38656 non-null  object \n",
      " 23  description      38656 non-null  object \n",
      " 24  property_type    38656 non-null  object \n",
      " 25  operation_type   38656 non-null  object \n",
      "dtypes: float64(11), int64(1), object(14)\n",
      "memory usage: 7.7+ MB\n"
     ]
    }
   ],
   "source": [
    "#Analizamos las columnas del dataframe\n",
    "\n",
    "capital_df.info()"
   ]
  },
  {
   "cell_type": "code",
   "execution_count": 23,
   "id": "85a22d7c",
   "metadata": {},
   "outputs": [
    {
     "data": {
      "text/plain": [
       "Unnamed: 0             0\n",
       "id                     0\n",
       "ad_type                0\n",
       "start_date             0\n",
       "end_date               0\n",
       "created_on             0\n",
       "lat                 2071\n",
       "lon                 2071\n",
       "l1                     0\n",
       "l2                     0\n",
       "l3                   137\n",
       "l4                 37511\n",
       "l5                 38656\n",
       "l6                 38656\n",
       "rooms               2561\n",
       "bedrooms            7535\n",
       "bathrooms           2336\n",
       "surface_total      16011\n",
       "surface_covered    15978\n",
       "price                  0\n",
       "currency               0\n",
       "price_period       38656\n",
       "title                  0\n",
       "description            0\n",
       "property_type          0\n",
       "operation_type         0\n",
       "dtype: int64"
      ]
     },
     "execution_count": 23,
     "metadata": {},
     "output_type": "execute_result"
    }
   ],
   "source": [
    "#Imprimimos la cantidad de NANs que se encuentran en el dataframe, por columna\n",
    "\n",
    "capital_df.isnull().sum()"
   ]
  },
  {
   "cell_type": "markdown",
   "id": "f15d4374",
   "metadata": {},
   "source": [
    "Podemos observar que las columnas **\"l5\", \"l6\" y \"price_period\"** están vacías.\n",
    "\n",
    "Por otro lado sabemos que, por las características de las publicaciones que conforman los datos importados, las columnas **\"adtype\", \"l1\", \"l2\", \"currency\", \"operation_type\"** contienen la misma información para todas las instancias. **\"Propiedad\", \"Argentina\", \"Capital Federal\", \"USD\" y \"Venta\"**, respectivamente.\n",
    "\n",
    "Por último, las columnas **\"id\", \"title\" y \"description\"** contienen información tipo texto que no nos aporta información relevante."
   ]
  },
  {
   "cell_type": "code",
   "execution_count": 24,
   "id": "a5c0ce58",
   "metadata": {},
   "outputs": [
    {
     "data": {
      "text/html": [
       "<div>\n",
       "<style scoped>\n",
       "    .dataframe tbody tr th:only-of-type {\n",
       "        vertical-align: middle;\n",
       "    }\n",
       "\n",
       "    .dataframe tbody tr th {\n",
       "        vertical-align: top;\n",
       "    }\n",
       "\n",
       "    .dataframe thead th {\n",
       "        text-align: right;\n",
       "    }\n",
       "</style>\n",
       "<table border=\"1\" class=\"dataframe\">\n",
       "  <thead>\n",
       "    <tr style=\"text-align: right;\">\n",
       "      <th></th>\n",
       "      <th>Unnamed: 0</th>\n",
       "      <th>created_on</th>\n",
       "      <th>lat</th>\n",
       "      <th>lon</th>\n",
       "      <th>l3</th>\n",
       "      <th>l4</th>\n",
       "      <th>rooms</th>\n",
       "      <th>bedrooms</th>\n",
       "      <th>bathrooms</th>\n",
       "      <th>surface_total</th>\n",
       "      <th>surface_covered</th>\n",
       "      <th>price</th>\n",
       "      <th>property_type</th>\n",
       "    </tr>\n",
       "  </thead>\n",
       "  <tbody>\n",
       "    <tr>\n",
       "      <th>0</th>\n",
       "      <td>63934</td>\n",
       "      <td>2020-07-06</td>\n",
       "      <td>-34.618041</td>\n",
       "      <td>-58.475124</td>\n",
       "      <td>Villa del Parque</td>\n",
       "      <td>NaN</td>\n",
       "      <td>2.0</td>\n",
       "      <td>1.0</td>\n",
       "      <td>1.0</td>\n",
       "      <td>NaN</td>\n",
       "      <td>NaN</td>\n",
       "      <td>89000.0</td>\n",
       "      <td>Departamento</td>\n",
       "    </tr>\n",
       "    <tr>\n",
       "      <th>1</th>\n",
       "      <td>660204</td>\n",
       "      <td>2020-07-17</td>\n",
       "      <td>-34.620686</td>\n",
       "      <td>-58.453972</td>\n",
       "      <td>Caballito</td>\n",
       "      <td>NaN</td>\n",
       "      <td>3.0</td>\n",
       "      <td>2.0</td>\n",
       "      <td>2.0</td>\n",
       "      <td>NaN</td>\n",
       "      <td>NaN</td>\n",
       "      <td>190000.0</td>\n",
       "      <td>Departamento</td>\n",
       "    </tr>\n",
       "    <tr>\n",
       "      <th>2</th>\n",
       "      <td>961496</td>\n",
       "      <td>2020-06-19</td>\n",
       "      <td>-34.590569</td>\n",
       "      <td>-58.425215</td>\n",
       "      <td>Palermo</td>\n",
       "      <td>Palermo Soho</td>\n",
       "      <td>3.0</td>\n",
       "      <td>2.0</td>\n",
       "      <td>2.0</td>\n",
       "      <td>98.0</td>\n",
       "      <td>68.0</td>\n",
       "      <td>360000.0</td>\n",
       "      <td>Departamento</td>\n",
       "    </tr>\n",
       "    <tr>\n",
       "      <th>3</th>\n",
       "      <td>292569</td>\n",
       "      <td>2021-02-24</td>\n",
       "      <td>-34.577440</td>\n",
       "      <td>-58.485041</td>\n",
       "      <td>Villa Urquiza</td>\n",
       "      <td>NaN</td>\n",
       "      <td>4.0</td>\n",
       "      <td>4.0</td>\n",
       "      <td>1.0</td>\n",
       "      <td>118.0</td>\n",
       "      <td>96.0</td>\n",
       "      <td>285000.0</td>\n",
       "      <td>Departamento</td>\n",
       "    </tr>\n",
       "    <tr>\n",
       "      <th>4</th>\n",
       "      <td>278737</td>\n",
       "      <td>2020-11-17</td>\n",
       "      <td>-34.615851</td>\n",
       "      <td>-58.439566</td>\n",
       "      <td>Caballito</td>\n",
       "      <td>NaN</td>\n",
       "      <td>2.0</td>\n",
       "      <td>11.0</td>\n",
       "      <td>1.0</td>\n",
       "      <td>61.0</td>\n",
       "      <td>52.0</td>\n",
       "      <td>145000.0</td>\n",
       "      <td>Departamento</td>\n",
       "    </tr>\n",
       "  </tbody>\n",
       "</table>\n",
       "</div>"
      ],
      "text/plain": [
       "   Unnamed: 0  created_on        lat        lon                l3  \\\n",
       "0       63934  2020-07-06 -34.618041 -58.475124  Villa del Parque   \n",
       "1      660204  2020-07-17 -34.620686 -58.453972         Caballito   \n",
       "2      961496  2020-06-19 -34.590569 -58.425215           Palermo   \n",
       "3      292569  2021-02-24 -34.577440 -58.485041     Villa Urquiza   \n",
       "4      278737  2020-11-17 -34.615851 -58.439566         Caballito   \n",
       "\n",
       "             l4  rooms  bedrooms  bathrooms  surface_total  surface_covered  \\\n",
       "0           NaN    2.0       1.0        1.0            NaN              NaN   \n",
       "1           NaN    3.0       2.0        2.0            NaN              NaN   \n",
       "2  Palermo Soho    3.0       2.0        2.0           98.0             68.0   \n",
       "3           NaN    4.0       4.0        1.0          118.0             96.0   \n",
       "4           NaN    2.0      11.0        1.0           61.0             52.0   \n",
       "\n",
       "      price property_type  \n",
       "0   89000.0  Departamento  \n",
       "1  190000.0  Departamento  \n",
       "2  360000.0  Departamento  \n",
       "3  285000.0  Departamento  \n",
       "4  145000.0  Departamento  "
      ]
     },
     "execution_count": 24,
     "metadata": {},
     "output_type": "execute_result"
    }
   ],
   "source": [
    "#Vamos a eliminar del dataframe todas las columnas mencionadas ya que no son relevantes para el análisis exploratorio\n",
    "\n",
    "capital_df.drop(labels=['id','ad_type','start_date','end_date','l1','l2','l5','l6','currency','price_period','title','description','operation_type'], axis=1, inplace = True)\n",
    "capital_df.head()"
   ]
  },
  {
   "cell_type": "code",
   "execution_count": 25,
   "id": "044042d8",
   "metadata": {},
   "outputs": [
    {
     "data": {
      "text/plain": [
       "(38656, 13)"
      ]
     },
     "execution_count": 25,
     "metadata": {},
     "output_type": "execute_result"
    }
   ],
   "source": [
    "#Verificamos que se hayan elimando las columnas correctamente\n",
    "\n",
    "np.shape(capital_df)"
   ]
  },
  {
   "cell_type": "code",
   "execution_count": 26,
   "id": "5654a90c",
   "metadata": {},
   "outputs": [
    {
     "data": {
      "text/plain": [
       "Unnamed: 0             0\n",
       "created_on             0\n",
       "lat                 2071\n",
       "lon                 2071\n",
       "l3                   137\n",
       "l4                 37511\n",
       "rooms               2561\n",
       "bedrooms            7535\n",
       "bathrooms           2336\n",
       "surface_total      16011\n",
       "surface_covered    15978\n",
       "price                  0\n",
       "property_type          0\n",
       "dtype: int64"
      ]
     },
     "execution_count": 26,
     "metadata": {},
     "output_type": "execute_result"
    }
   ],
   "source": [
    "#Imprimimos nuevamente la cantidad de NANs por columna\n",
    "\n",
    "capital_df.isnull().sum()"
   ]
  },
  {
   "cell_type": "code",
   "execution_count": 27,
   "id": "798e12aa",
   "metadata": {},
   "outputs": [
    {
     "name": "stdout",
     "output_type": "stream",
     "text": [
      "<class 'pandas.core.frame.DataFrame'>\n",
      "RangeIndex: 38656 entries, 0 to 38655\n",
      "Data columns (total 13 columns):\n",
      " #   Column           Non-Null Count  Dtype  \n",
      "---  ------           --------------  -----  \n",
      " 0   Unnamed: 0       38656 non-null  int64  \n",
      " 1   created_on       38656 non-null  object \n",
      " 2   lat              36585 non-null  float64\n",
      " 3   lon              36585 non-null  float64\n",
      " 4   l3               38519 non-null  object \n",
      " 5   l4               1145 non-null   object \n",
      " 6   rooms            38656 non-null  float64\n",
      " 7   bedrooms         31121 non-null  float64\n",
      " 8   bathrooms        36320 non-null  float64\n",
      " 9   surface_total    38656 non-null  float64\n",
      " 10  surface_covered  38656 non-null  float64\n",
      " 11  price            38656 non-null  float64\n",
      " 12  property_type    38656 non-null  object \n",
      "dtypes: float64(8), int64(1), object(4)\n",
      "memory usage: 3.8+ MB\n"
     ]
    }
   ],
   "source": [
    "#Para las columnas \"surface_total\" y \"surface_covered\" que contienen algunas filas vacías, perder su información tendría un gran impacto para el análisis, por lo que llenamos los valores vacíos con la media de los valores de superficie.\n",
    "#Por otro lado, la columna \"rooms\" que tiene el número de ambientes, va a ser completada con la mediana de todos sus valores.\n",
    "\n",
    "capital_df['surface_total'].fillna(capital_df['surface_total'].mean(), inplace = True)\n",
    "capital_df['surface_covered'].fillna(capital_df['surface_covered'].mean(), inplace = True)\n",
    "capital_df['rooms'].fillna(capital_df['rooms'].median(), inplace = True)\n",
    "capital_df.info()"
   ]
  },
  {
   "cell_type": "code",
   "execution_count": 28,
   "id": "df34677b",
   "metadata": {},
   "outputs": [
    {
     "data": {
      "text/plain": [
       "Unnamed: 0             0\n",
       "created_on             0\n",
       "lat                 2071\n",
       "lon                 2071\n",
       "l3                   137\n",
       "l4                 37511\n",
       "rooms                  0\n",
       "bedrooms            7535\n",
       "bathrooms           2336\n",
       "surface_total          0\n",
       "surface_covered        0\n",
       "price                  0\n",
       "property_type          0\n",
       "dtype: int64"
      ]
     },
     "execution_count": 28,
     "metadata": {},
     "output_type": "execute_result"
    }
   ],
   "source": [
    "#Nos aseguramos de que las columnas ya no cuenten con los nulos.\n",
    "\n",
    "capital_df.isnull().sum()"
   ]
  },
  {
   "cell_type": "code",
   "execution_count": 29,
   "id": "33812ac9",
   "metadata": {},
   "outputs": [
    {
     "data": {
      "text/plain": [
       "8248"
      ]
     },
     "execution_count": 29,
     "metadata": {},
     "output_type": "execute_result"
    }
   ],
   "source": [
    "#Ahora, vamos a averiguar si el dataframe cuenta con valores duplicados en la columna \"Unnamed: 0\" que es el código de identificación de la publicación. Si tiene un valor duplicado, quiere decir que la publicación está exactamente duplicada en todas sus columnas (no sugiere una actualización de precios por ejemplo)\n",
    "\n",
    "capital_df.duplicated(subset = \"Unnamed: 0\", keep = 'last').sum()"
   ]
  },
  {
   "cell_type": "markdown",
   "id": "3259bb33",
   "metadata": {},
   "source": [
    "**Comentario:** Como podemos ver, hay *8248 publicaciones* duplicadas. Vamos a proceder a eliminarlas del dataframe para que no influya en el análisis."
   ]
  },
  {
   "cell_type": "code",
   "execution_count": 30,
   "id": "361473c2",
   "metadata": {},
   "outputs": [
    {
     "data": {
      "text/plain": [
       "0"
      ]
     },
     "execution_count": 30,
     "metadata": {},
     "output_type": "execute_result"
    }
   ],
   "source": [
    "#Ejecutamos drop_duplicates para eliminar los duplicados y verificamos que el contador devuelva 0.\n",
    "\n",
    "capital_df.drop_duplicates(subset='Unnamed: 0', inplace=True, keep='last')\n",
    "capital_df.duplicated(subset = \"Unnamed: 0\", keep = 'last').sum()"
   ]
  },
  {
   "cell_type": "code",
   "execution_count": 31,
   "id": "25c42a0e",
   "metadata": {},
   "outputs": [
    {
     "data": {
      "text/plain": [
       "<seaborn.axisgrid.FacetGrid at 0x28d8a7317f0>"
      ]
     },
     "execution_count": 31,
     "metadata": {},
     "output_type": "execute_result"
    },
    {
     "data": {
      "image/png": "[encoded data removed]",
      "text/plain": [
       "<Figure size 1080x360 with 1 Axes>"
      ]
     },
     "metadata": {
      "needs_background": "light"
     },
     "output_type": "display_data"
    }
   ],
   "source": [
    "#Vamos a realizar un boxplot de la variable precio con el fin de identificar los outliers del conjunto de datos\n",
    "\n",
    "sns.catplot(data=capital_df,\n",
    "                x=\"price\", \n",
    "                kind=\"box\",\n",
    "                palette = \"muted\",\n",
    "                height = 5 ,aspect=3)"
   ]
  },
  {
   "cell_type": "markdown",
   "id": "fcc5f366",
   "metadata": {},
   "source": [
    "**Comentario:** Como podemos observar, los datos cuentan con una gran cantidad de precios que parecieran ser altos. Sin embargo, vemos que hay una gran densidad de precios hasta aproximadamente *USD 350k*, por ende, vamos a mantener todos los valores por debajo de ese límite."
   ]
  },
  {
   "cell_type": "code",
   "execution_count": 32,
   "id": "96ebea47",
   "metadata": {},
   "outputs": [],
   "source": [
    "capital_df = capital_df.loc[capital_df.price < 350000]"
   ]
  },
  {
   "cell_type": "code",
   "execution_count": 33,
   "id": "1c61af4d",
   "metadata": {},
   "outputs": [
    {
     "data": {
      "text/plain": [
       "Unnamed: 0         0\n",
       "created_on         0\n",
       "lat                0\n",
       "lon                0\n",
       "l3                 0\n",
       "l4                 0\n",
       "rooms              0\n",
       "bedrooms           0\n",
       "bathrooms          0\n",
       "surface_total      0\n",
       "surface_covered    0\n",
       "price              0\n",
       "property_type      0\n",
       "dtype: int64"
      ]
     },
     "execution_count": 33,
     "metadata": {},
     "output_type": "execute_result"
    }
   ],
   "source": [
    "#Para verificar, ponemos un contador a los valores superiores, esperando que devuelva 0.\n",
    "\n",
    "capital_df[capital_df['price'] > 350000].count()"
   ]
  },
  {
   "cell_type": "code",
   "execution_count": 34,
   "id": "2afb8131",
   "metadata": {},
   "outputs": [
    {
     "data": {
      "text/plain": [
       "<seaborn.axisgrid.FacetGrid at 0x28d8cb961f0>"
      ]
     },
     "execution_count": 34,
     "metadata": {},
     "output_type": "execute_result"
    },
    {
     "data": {
      "image/png": "[encoded data removed]",
      "text/plain": [
       "<Figure size 1080x360 with 1 Axes>"
      ]
     },
     "metadata": {
      "needs_background": "light"
     },
     "output_type": "display_data"
    }
   ],
   "source": [
    "#Volvemos a realizar el boxplot\n",
    "\n",
    "sns.catplot(data=capital_df,\n",
    "                x=\"price\", \n",
    "                kind=\"box\",\n",
    "                palette = \"muted\",\n",
    "                height = 5 ,aspect=3)"
   ]
  },
  {
   "cell_type": "code",
   "execution_count": 35,
   "id": "788362df",
   "metadata": {},
   "outputs": [
    {
     "data": {
      "text/plain": [
       "(27493, 13)"
      ]
     },
     "execution_count": 35,
     "metadata": {},
     "output_type": "execute_result"
    }
   ],
   "source": [
    "np.shape(capital_df)"
   ]
  },
  {
   "cell_type": "markdown",
   "id": "bfedc566",
   "metadata": {},
   "source": [
    "**Comentario:** Observamos que la cantidad de Outliers se redujo considerablemente y aún mantenemos casi 27.500 samples."
   ]
  },
  {
   "cell_type": "markdown",
   "id": "2536d9a4",
   "metadata": {},
   "source": [
    "---\n",
    "**Hasta el momento** realizamos las manipulaciones para tener la información necesaria para todo el Análisis Exploratorio.\n",
    "\n",
    "Vamos a proceder con algunas manipulaciones más que corresponden solamente a lo necesario para el Aprendizaje Supervisado."
   ]
  },
  {
   "cell_type": "code",
   "execution_count": 36,
   "id": "940e810d",
   "metadata": {},
   "outputs": [],
   "source": [
    "#Eliminamos la columna de identificación de la publicación.\n",
    "#También la columna l4 que desagrega aún más los barrios, pero únicamente para el barrio 'Palermo'\n",
    "#Eliminamos latitud y longitud porque es información que tenemos disponible en las dummies del barrio.\n",
    "#Eliminamos dormitorios y baños porque es información que tenemos en la variable 'rooms'\n",
    "\n",
    "capital_df = capital_df.drop(['Unnamed: 0',\"l4\",\"created_on\",\"lat\",\"lon\",\"bedrooms\",\"bathrooms\"], axis=1)"
   ]
  },
  {
   "cell_type": "code",
   "execution_count": 37,
   "id": "3ba1bce4",
   "metadata": {},
   "outputs": [
    {
     "data": {
      "text/plain": [
       "(27493, 6)"
      ]
     },
     "execution_count": 37,
     "metadata": {},
     "output_type": "execute_result"
    }
   ],
   "source": [
    "np.shape(capital_df)"
   ]
  }
 ],
 "metadata": {
  "kernelspec": {
   "display_name": "Python 3 (ipykernel)",
   "language": "python",
   "name": "python3"
  },
  "language_info": {
   "codemirror_mode": {
    "name": "ipython",
    "version": 3
   },
   "file_extension": ".py",
   "mimetype": "text/x-python",
   "name": "python",
   "nbconvert_exporter": "python",
   "pygments_lexer": "ipython3",
   "version": "3.9.12"
  }
 },
 "nbformat": 4,
 "nbformat_minor": 5
}
